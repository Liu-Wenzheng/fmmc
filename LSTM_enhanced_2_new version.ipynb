{
 "cells": [
  {
   "cell_type": "markdown",
   "metadata": {},
   "source": [
    "# Data Preparation"
   ]
  },
  {
   "cell_type": "code",
   "execution_count": 19,
   "metadata": {},
   "outputs": [],
   "source": [
    "import numpy as np\n",
    "import matplotlib.pyplot as plt\n",
    "from collections import Counter\n",
    "from gensim.models import Word2Vec \n",
    "from keras.utils.np_utils import to_categorical"
   ]
  },
  {
   "cell_type": "markdown",
   "metadata": {},
   "source": [
    "## load files"
   ]
  },
  {
   "cell_type": "code",
   "execution_count": 20,
   "metadata": {},
   "outputs": [
    {
     "name": "stdout",
     "output_type": "stream",
     "text": [
      "3204\n"
     ]
    }
   ],
   "source": [
    "def load_doc(filename):\n",
    "    # open the file as read only\n",
    "    file = open(filename, 'r')\n",
    "    text = file.read()\n",
    "    file.close()\n",
    "    return text\n",
    "\n",
    "# form the sequence including '\\n'\n",
    "def remove_values_from_list(the_list, val):\n",
    "        while val in the_list:\n",
    "            the_list.remove(val)\n",
    "            \n",
    "# load text\n",
    "vocabulary = load_doc('data/Syllable_dictionary.txt')\n",
    "r = vocabulary.split('\\n')\n",
    "words=[]\n",
    "for i in r:\n",
    "    words.append(i.split())\n",
    "Words=[]\n",
    "for w in words:\n",
    "    if len(w)!=0:\n",
    "        Words.append(w[0])\n",
    "print(len(Words))"
   ]
  },
  {
   "cell_type": "markdown",
   "metadata": {},
   "source": [
    "## Data preprocessing"
   ]
  },
  {
   "cell_type": "code",
   "execution_count": 21,
   "metadata": {},
   "outputs": [],
   "source": [
    "raw_text=load_doc('data/shakespeare.txt')\n",
    "words = raw_text.split('\\n')\n",
    "punctuation=['\\n', ' ', '!', '#', \"'\", '(', ')', ',', '-', '.', ':', ';', '?']\n",
    "Initial=['A', 'B', 'C', 'D', 'E', 'F', 'G', 'H', 'I', 'J', 'K', 'L', 'M', 'N', 'O', 'P', 'R', 'S', 'T', 'U', 'V', 'W', 'Y']\n",
    "Special=['gainst','th','tis']\n",
    "sentences=[]\n",
    "\n",
    "for i in words:\n",
    "    sentences.append([i])\n",
    "sentences_1=[]\n",
    "p=[]\n",
    "for i in range(len(sentences)):\n",
    "    a=0\n",
    "    m=sentences[i][0].split()\n",
    "    for j in range(len(m)):\n",
    "        if m[j] not in Words:\n",
    "            if m[j][-1] in punctuation:\n",
    "                m[j]=m[j][:-1]\n",
    "            if m[j][0] in punctuation:\n",
    "                m[j]=m[j][1:]\n",
    "            if m[j][0] in Initial:\n",
    "                m[j]=m[j].lower()\n",
    "            if m[j][-1] in punctuation:\n",
    "                m[j]=m[j][:-1]\n",
    "            if m[j][0] in punctuation:\n",
    "                m[j]=m[j][1:]\n",
    "            if m[j][0] in Initial:\n",
    "                m[j]=m[j].lower()\n",
    "        if m[j] in Special:\n",
    "            a=m[j]\n",
    "    if a!=0:\n",
    "         m.remove(a)\n",
    "    if 'greeing' in m:\n",
    "        r = ['\\'greeing' if x == 'greeing' else x for x in m]\n",
    "    sentences_1.append(m)\n",
    "for i in range(154):\n",
    "    sentences_1.remove([str(i+1)])\n",
    "remove_values_from_list(sentences_1, [])\n",
    "for i in range(len(sentences_1)):\n",
    "    sentences_1[i].append('#')"
   ]
  },
  {
   "cell_type": "markdown",
   "metadata": {},
   "source": [
    "## Sequence generation"
   ]
  },
  {
   "cell_type": "code",
   "execution_count": 22,
   "metadata": {},
   "outputs": [
    {
     "name": "stdout",
     "output_type": "stream",
     "text": [
      "Total Sequences: 19719\n"
     ]
    }
   ],
   "source": [
    "p=[]\n",
    "for i in sentences_1:\n",
    "    for j in i:\n",
    "        p.append(j)\n",
    "result = Counter(p)\n",
    "\n",
    "# organize into sequences of characters\n",
    "length = 10\n",
    "n=1\n",
    "sequences = list()\n",
    "for i in range(0, len(p),n):\n",
    "    # select sequence of tokens\n",
    "    seq = p[i:i+length]\n",
    "    # store\n",
    "    if len(p)-i>length:\n",
    "        sequences.append(seq)\n",
    "print('Total Sequences: %d' % len(sequences))"
   ]
  },
  {
   "cell_type": "markdown",
   "metadata": {},
   "source": [
    "## Embedding codes Generation"
   ]
  },
  {
   "cell_type": "code",
   "execution_count": 23,
   "metadata": {},
   "outputs": [],
   "source": [
    "Dimension=80\n",
    "M = Word2Vec(sentences_1,vector_size=Dimension,min_count=1)"
   ]
  },
  {
   "cell_type": "markdown",
   "metadata": {},
   "source": [
    "## One-hot codes Generation"
   ]
  },
  {
   "cell_type": "code",
   "execution_count": 24,
   "metadata": {},
   "outputs": [],
   "source": [
    "def mapping_E(word):\n",
    "    w=M.wv[word]\n",
    "    r=[]\n",
    "    for i in range(len(w)):\n",
    "        r.append(w[i])\n",
    "    return r\n",
    "\n",
    "wordds = sorted(list(set(p)))\n",
    "M1 = dict((c, i) for i, c in enumerate(wordds))\n",
    "def mapping_H(word):\n",
    "    return to_categorical(M1[word], num_classes=len(M1))"
   ]
  },
  {
   "cell_type": "markdown",
   "metadata": {},
   "source": [
    "## Training data Preparation"
   ]
  },
  {
   "cell_type": "code",
   "execution_count": 25,
   "metadata": {},
   "outputs": [],
   "source": [
    "X = list()\n",
    "y = list()\n",
    "for line in sequences:\n",
    "    # integer encode line\n",
    "    encoded_seq = [mapping_E(word) for word in line[:-1]]\n",
    "    encoded_= mapping_H(line[-1])\n",
    "    # store\n",
    "    X.append(encoded_seq)\n",
    "    y.append(encoded_)\n",
    "X=np.array(X)\n",
    "y=np.array(y)\n",
    "D=len(y[0])"
   ]
  },
  {
   "cell_type": "markdown",
   "metadata": {},
   "source": [
    "# Train Model"
   ]
  },
  {
   "cell_type": "markdown",
   "metadata": {},
   "source": [
    "## Model generation & Training"
   ]
  },
  {
   "cell_type": "code",
   "execution_count": 26,
   "metadata": {
    "scrolled": false
   },
   "outputs": [
    {
     "name": "stdout",
     "output_type": "stream",
     "text": [
      "Model: \"sequential_1\"\n",
      "_________________________________________________________________\n",
      " Layer (type)                Output Shape              Param #   \n",
      "=================================================================\n",
      " lstm_1 (LSTM)               (None, 150)               138600    \n",
      "                                                                 \n",
      " dense_1 (Dense)             (None, 3205)              483955    \n",
      "                                                                 \n",
      " activation_2 (Activation)   (None, 3205)              0         \n",
      "                                                                 \n",
      "=================================================================\n",
      "Total params: 622,555\n",
      "Trainable params: 622,555\n",
      "Non-trainable params: 0\n",
      "_________________________________________________________________\n",
      "None\n"
     ]
    }
   ],
   "source": [
    "from keras.models import Sequential\n",
    "from keras.layers import LSTM, Dense, Activation, Lambda\n",
    "from keras import regularizers\n",
    "from pickle import dump\n",
    "# define model\n",
    "model = Sequential()\n",
    "model.add(LSTM(150, input_shape=(X.shape[1], X.shape[2])))\n",
    "model.add(Dense(D))\n",
    "model.add(Activation('softmax'))\n",
    "print(model.summary())"
   ]
  },
  {
   "cell_type": "code",
   "execution_count": 27,
   "metadata": {},
   "outputs": [],
   "source": [
    "# compile model\n",
    "model.compile(loss='categorical_crossentropy', optimizer='adam', metrics=['accuracy'])"
   ]
  },
  {
   "cell_type": "code",
   "execution_count": 43,
   "metadata": {},
   "outputs": [
    {
     "name": "stdout",
     "output_type": "stream",
     "text": [
      "Epoch 1/130\n",
      "617/617 - 6s - loss: 0.1020 - accuracy: 0.9730 - 6s/epoch - 9ms/step\n",
      "Epoch 2/130\n",
      "617/617 - 5s - loss: 0.0513 - accuracy: 0.9887 - 5s/epoch - 9ms/step\n",
      "Epoch 3/130\n",
      "617/617 - 5s - loss: 0.0141 - accuracy: 0.9988 - 5s/epoch - 8ms/step\n",
      "Epoch 4/130\n",
      "617/617 - 5s - loss: 0.0065 - accuracy: 0.9998 - 5s/epoch - 8ms/step\n",
      "Epoch 5/130\n",
      "617/617 - 5s - loss: 0.0055 - accuracy: 0.9997 - 5s/epoch - 8ms/step\n",
      "Epoch 6/130\n",
      "617/617 - 5s - loss: 0.0054 - accuracy: 0.9997 - 5s/epoch - 8ms/step\n",
      "Epoch 7/130\n",
      "617/617 - 5s - loss: 0.3206 - accuracy: 0.9248 - 5s/epoch - 8ms/step\n",
      "Epoch 8/130\n",
      "617/617 - 5s - loss: 0.2612 - accuracy: 0.9248 - 5s/epoch - 8ms/step\n",
      "Epoch 9/130\n",
      "617/617 - 5s - loss: 0.0488 - accuracy: 0.9904 - 5s/epoch - 8ms/step\n",
      "Epoch 10/130\n",
      "617/617 - 5s - loss: 0.0150 - accuracy: 0.9990 - 5s/epoch - 8ms/step\n",
      "Epoch 11/130\n",
      "617/617 - 5s - loss: 0.0074 - accuracy: 0.9999 - 5s/epoch - 8ms/step\n",
      "Epoch 12/130\n",
      "617/617 - 6s - loss: 0.0056 - accuracy: 0.9999 - 6s/epoch - 9ms/step\n",
      "Epoch 13/130\n",
      "617/617 - 6s - loss: 0.0048 - accuracy: 0.9999 - 6s/epoch - 10ms/step\n",
      "Epoch 14/130\n",
      "617/617 - 5s - loss: 0.0043 - accuracy: 0.9999 - 5s/epoch - 8ms/step\n",
      "Epoch 15/130\n",
      "617/617 - 5s - loss: 0.0039 - accuracy: 0.9999 - 5s/epoch - 9ms/step\n",
      "Epoch 16/130\n",
      "617/617 - 6s - loss: 0.0035 - accuracy: 0.9999 - 6s/epoch - 9ms/step\n",
      "Epoch 17/130\n",
      "617/617 - 6s - loss: 0.0033 - accuracy: 0.9999 - 6s/epoch - 9ms/step\n",
      "Epoch 18/130\n",
      "617/617 - 6s - loss: 0.0032 - accuracy: 0.9999 - 6s/epoch - 9ms/step\n",
      "Epoch 19/130\n",
      "617/617 - 6s - loss: 0.1704 - accuracy: 0.9671 - 6s/epoch - 10ms/step\n",
      "Epoch 20/130\n",
      "617/617 - 5s - loss: 0.6523 - accuracy: 0.8425 - 5s/epoch - 8ms/step\n",
      "Epoch 21/130\n",
      "617/617 - 5s - loss: 0.0668 - accuracy: 0.9847 - 5s/epoch - 8ms/step\n",
      "Epoch 22/130\n",
      "617/617 - 5s - loss: 0.0368 - accuracy: 0.9944 - 5s/epoch - 8ms/step\n",
      "Epoch 23/130\n",
      "617/617 - 5s - loss: 0.0225 - accuracy: 0.9980 - 5s/epoch - 8ms/step\n",
      "Epoch 24/130\n",
      "617/617 - 5s - loss: 0.1207 - accuracy: 0.9694 - 5s/epoch - 8ms/step\n",
      "Epoch 25/130\n",
      "617/617 - 5s - loss: 0.1490 - accuracy: 0.9582 - 5s/epoch - 8ms/step\n",
      "Epoch 26/130\n",
      "617/617 - 5s - loss: 0.0656 - accuracy: 0.9854 - 5s/epoch - 8ms/step\n",
      "Epoch 27/130\n",
      "617/617 - 5s - loss: 0.0463 - accuracy: 0.9911 - 5s/epoch - 8ms/step\n",
      "Epoch 28/130\n",
      "617/617 - 5s - loss: 0.0655 - accuracy: 0.9856 - 5s/epoch - 8ms/step\n",
      "Epoch 29/130\n",
      "617/617 - 5s - loss: 0.0588 - accuracy: 0.9865 - 5s/epoch - 8ms/step\n",
      "Epoch 30/130\n",
      "617/617 - 5s - loss: 0.1145 - accuracy: 0.9701 - 5s/epoch - 8ms/step\n",
      "Epoch 31/130\n",
      "617/617 - 5s - loss: 0.0827 - accuracy: 0.9810 - 5s/epoch - 8ms/step\n",
      "Epoch 32/130\n",
      "617/617 - 5s - loss: 0.1098 - accuracy: 0.9724 - 5s/epoch - 8ms/step\n",
      "Epoch 33/130\n",
      "617/617 - 5s - loss: 0.0418 - accuracy: 0.9919 - 5s/epoch - 8ms/step\n",
      "Epoch 34/130\n",
      "617/617 - 5s - loss: 0.0222 - accuracy: 0.9972 - 5s/epoch - 8ms/step\n",
      "Epoch 35/130\n",
      "617/617 - 5s - loss: 0.0097 - accuracy: 0.9994 - 5s/epoch - 8ms/step\n",
      "Epoch 36/130\n",
      "617/617 - 5s - loss: 0.2232 - accuracy: 0.9406 - 5s/epoch - 8ms/step\n",
      "Epoch 37/130\n",
      "617/617 - 5s - loss: 0.1114 - accuracy: 0.9710 - 5s/epoch - 8ms/step\n",
      "Epoch 38/130\n",
      "617/617 - 5s - loss: 0.0370 - accuracy: 0.9932 - 5s/epoch - 8ms/step\n",
      "Epoch 39/130\n",
      "617/617 - 5s - loss: 0.0892 - accuracy: 0.9771 - 5s/epoch - 8ms/step\n",
      "Epoch 40/130\n",
      "617/617 - 5s - loss: 0.0957 - accuracy: 0.9761 - 5s/epoch - 7ms/step\n",
      "Epoch 41/130\n",
      "617/617 - 5s - loss: 0.0280 - accuracy: 0.9960 - 5s/epoch - 8ms/step\n",
      "Epoch 42/130\n",
      "617/617 - 5s - loss: 0.0096 - accuracy: 0.9996 - 5s/epoch - 8ms/step\n",
      "Epoch 43/130\n",
      "617/617 - 5s - loss: 0.0051 - accuracy: 0.9999 - 5s/epoch - 8ms/step\n",
      "Epoch 44/130\n",
      "617/617 - 5s - loss: 0.0042 - accuracy: 0.9999 - 5s/epoch - 8ms/step\n",
      "Epoch 45/130\n",
      "617/617 - 5s - loss: 0.0037 - accuracy: 0.9999 - 5s/epoch - 8ms/step\n",
      "Epoch 46/130\n",
      "617/617 - 5s - loss: 0.0034 - accuracy: 0.9999 - 5s/epoch - 8ms/step\n",
      "Epoch 47/130\n",
      "617/617 - 6s - loss: 0.0031 - accuracy: 0.9999 - 6s/epoch - 10ms/step\n",
      "Epoch 48/130\n",
      "617/617 - 5s - loss: 0.0030 - accuracy: 0.9999 - 5s/epoch - 8ms/step\n",
      "Epoch 49/130\n",
      "617/617 - 5s - loss: 0.4324 - accuracy: 0.9159 - 5s/epoch - 8ms/step\n",
      "Epoch 50/130\n",
      "617/617 - 5s - loss: 0.4361 - accuracy: 0.8880 - 5s/epoch - 8ms/step\n",
      "Epoch 51/130\n",
      "617/617 - 5s - loss: 0.0465 - accuracy: 0.9909 - 5s/epoch - 8ms/step\n",
      "Epoch 52/130\n",
      "617/617 - 5s - loss: 0.0260 - accuracy: 0.9963 - 5s/epoch - 8ms/step\n",
      "Epoch 53/130\n",
      "617/617 - 5s - loss: 0.0345 - accuracy: 0.9941 - 5s/epoch - 8ms/step\n",
      "Epoch 54/130\n",
      "617/617 - 5s - loss: 0.0151 - accuracy: 0.9989 - 5s/epoch - 8ms/step\n",
      "Epoch 55/130\n",
      "617/617 - 5s - loss: 0.0114 - accuracy: 0.9991 - 5s/epoch - 8ms/step\n",
      "Epoch 56/130\n",
      "617/617 - 5s - loss: 0.2922 - accuracy: 0.9207 - 5s/epoch - 8ms/step\n",
      "Epoch 57/130\n",
      "617/617 - 5s - loss: 0.0739 - accuracy: 0.9826 - 5s/epoch - 8ms/step\n",
      "Epoch 58/130\n",
      "617/617 - 5s - loss: 0.0168 - accuracy: 0.9986 - 5s/epoch - 8ms/step\n",
      "Epoch 59/130\n",
      "617/617 - 5s - loss: 0.0066 - accuracy: 0.9999 - 5s/epoch - 8ms/step\n",
      "Epoch 60/130\n",
      "617/617 - 5s - loss: 0.0049 - accuracy: 0.9999 - 5s/epoch - 8ms/step\n",
      "Epoch 61/130\n",
      "617/617 - 5s - loss: 0.0042 - accuracy: 0.9999 - 5s/epoch - 8ms/step\n",
      "Epoch 62/130\n",
      "617/617 - 5s - loss: 0.0037 - accuracy: 0.9999 - 5s/epoch - 8ms/step\n",
      "Epoch 63/130\n",
      "617/617 - 5s - loss: 0.0034 - accuracy: 0.9999 - 5s/epoch - 8ms/step\n",
      "Epoch 64/130\n",
      "617/617 - 5s - loss: 0.0032 - accuracy: 0.9999 - 5s/epoch - 8ms/step\n",
      "Epoch 65/130\n",
      "617/617 - 5s - loss: 0.0029 - accuracy: 0.9999 - 5s/epoch - 8ms/step\n",
      "Epoch 66/130\n",
      "617/617 - 5s - loss: 0.0026 - accuracy: 0.9999 - 5s/epoch - 8ms/step\n",
      "Epoch 67/130\n",
      "617/617 - 5s - loss: 0.1739 - accuracy: 0.9694 - 5s/epoch - 8ms/step\n",
      "Epoch 68/130\n",
      "617/617 - 5s - loss: 0.6513 - accuracy: 0.8417 - 5s/epoch - 8ms/step\n",
      "Epoch 69/130\n",
      "617/617 - 5s - loss: 0.0696 - accuracy: 0.9836 - 5s/epoch - 8ms/step\n",
      "Epoch 70/130\n",
      "617/617 - 5s - loss: 0.0227 - accuracy: 0.9972 - 5s/epoch - 8ms/step\n",
      "Epoch 71/130\n",
      "617/617 - 5s - loss: 0.0097 - accuracy: 0.9995 - 5s/epoch - 8ms/step\n",
      "Epoch 72/130\n",
      "617/617 - 5s - loss: 0.0053 - accuracy: 0.9999 - 5s/epoch - 8ms/step\n",
      "Epoch 73/130\n",
      "617/617 - 5s - loss: 0.2531 - accuracy: 0.9278 - 5s/epoch - 8ms/step\n",
      "Epoch 74/130\n",
      "617/617 - 5s - loss: 0.0732 - accuracy: 0.9823 - 5s/epoch - 8ms/step\n",
      "Epoch 75/130\n",
      "617/617 - 5s - loss: 0.0272 - accuracy: 0.9960 - 5s/epoch - 8ms/step\n",
      "Epoch 76/130\n",
      "617/617 - 5s - loss: 0.0204 - accuracy: 0.9971 - 5s/epoch - 8ms/step\n",
      "Epoch 77/130\n",
      "617/617 - 5s - loss: 0.1856 - accuracy: 0.9493 - 5s/epoch - 8ms/step\n",
      "Epoch 78/130\n",
      "617/617 - 5s - loss: 0.0707 - accuracy: 0.9837 - 5s/epoch - 8ms/step\n",
      "Epoch 79/130\n",
      "617/617 - 5s - loss: 0.0294 - accuracy: 0.9960 - 5s/epoch - 8ms/step\n",
      "Epoch 80/130\n",
      "617/617 - 5s - loss: 0.0491 - accuracy: 0.9888 - 5s/epoch - 8ms/step\n",
      "Epoch 81/130\n",
      "617/617 - 5s - loss: 0.1161 - accuracy: 0.9687 - 5s/epoch - 8ms/step\n",
      "Epoch 82/130\n",
      "617/617 - 5s - loss: 0.0631 - accuracy: 0.9847 - 5s/epoch - 8ms/step\n",
      "Epoch 83/130\n",
      "617/617 - 5s - loss: 0.0700 - accuracy: 0.9815 - 5s/epoch - 8ms/step\n",
      "Epoch 84/130\n",
      "617/617 - 5s - loss: 0.0889 - accuracy: 0.9763 - 5s/epoch - 8ms/step\n",
      "Epoch 85/130\n",
      "617/617 - 5s - loss: 0.0376 - accuracy: 0.9924 - 5s/epoch - 8ms/step\n",
      "Epoch 86/130\n",
      "617/617 - 5s - loss: 0.0673 - accuracy: 0.9842 - 5s/epoch - 8ms/step\n",
      "Epoch 87/130\n",
      "617/617 - 5s - loss: 0.0263 - accuracy: 0.9959 - 5s/epoch - 8ms/step\n",
      "Epoch 88/130\n",
      "617/617 - 5s - loss: 0.0904 - accuracy: 0.9763 - 5s/epoch - 8ms/step\n",
      "Epoch 89/130\n",
      "617/617 - 5s - loss: 0.1455 - accuracy: 0.9602 - 5s/epoch - 8ms/step\n",
      "Epoch 90/130\n",
      "617/617 - 5s - loss: 0.0371 - accuracy: 0.9933 - 5s/epoch - 8ms/step\n",
      "Epoch 91/130\n",
      "617/617 - 5s - loss: 0.0163 - accuracy: 0.9982 - 5s/epoch - 8ms/step\n",
      "Epoch 92/130\n",
      "617/617 - 5s - loss: 0.0196 - accuracy: 0.9969 - 5s/epoch - 8ms/step\n",
      "Epoch 93/130\n",
      "617/617 - 5s - loss: 0.2537 - accuracy: 0.9286 - 5s/epoch - 8ms/step\n",
      "Epoch 94/130\n",
      "617/617 - 5s - loss: 0.0487 - accuracy: 0.9895 - 5s/epoch - 8ms/step\n",
      "Epoch 95/130\n",
      "617/617 - 5s - loss: 0.0137 - accuracy: 0.9987 - 5s/epoch - 8ms/step\n",
      "Epoch 96/130\n",
      "617/617 - 5s - loss: 0.0146 - accuracy: 0.9985 - 5s/epoch - 8ms/step\n",
      "Epoch 97/130\n",
      "617/617 - 5s - loss: 0.1184 - accuracy: 0.9696 - 5s/epoch - 8ms/step\n",
      "Epoch 98/130\n",
      "617/617 - 5s - loss: 0.1473 - accuracy: 0.9591 - 5s/epoch - 8ms/step\n",
      "Epoch 99/130\n",
      "617/617 - 5s - loss: 0.0477 - accuracy: 0.9903 - 5s/epoch - 8ms/step\n",
      "Epoch 100/130\n",
      "617/617 - 5s - loss: 0.0169 - accuracy: 0.9982 - 5s/epoch - 8ms/step\n",
      "Epoch 101/130\n",
      "617/617 - 5s - loss: 0.0958 - accuracy: 0.9732 - 5s/epoch - 8ms/step\n",
      "Epoch 102/130\n",
      "617/617 - 5s - loss: 0.0348 - accuracy: 0.9942 - 5s/epoch - 8ms/step\n",
      "Epoch 103/130\n",
      "617/617 - 5s - loss: 0.0246 - accuracy: 0.9959 - 5s/epoch - 8ms/step\n",
      "Epoch 104/130\n",
      "617/617 - 5s - loss: 0.1698 - accuracy: 0.9535 - 5s/epoch - 8ms/step\n",
      "Epoch 105/130\n",
      "617/617 - 5s - loss: 0.0470 - accuracy: 0.9900 - 5s/epoch - 8ms/step\n",
      "Epoch 106/130\n",
      "617/617 - 5s - loss: 0.0115 - accuracy: 0.9992 - 5s/epoch - 8ms/step\n",
      "Epoch 107/130\n",
      "617/617 - 5s - loss: 0.0051 - accuracy: 0.9999 - 5s/epoch - 8ms/step\n",
      "Epoch 108/130\n",
      "617/617 - 5s - loss: 0.0039 - accuracy: 0.9999 - 5s/epoch - 8ms/step\n",
      "Epoch 109/130\n",
      "617/617 - 5s - loss: 0.0034 - accuracy: 0.9999 - 5s/epoch - 8ms/step\n",
      "Epoch 110/130\n",
      "617/617 - 5s - loss: 0.0031 - accuracy: 0.9999 - 5s/epoch - 8ms/step\n",
      "Epoch 111/130\n",
      "617/617 - 5s - loss: 0.0027 - accuracy: 0.9999 - 5s/epoch - 8ms/step\n",
      "Epoch 112/130\n",
      "617/617 - 5s - loss: 0.0025 - accuracy: 0.9999 - 5s/epoch - 8ms/step\n",
      "Epoch 113/130\n",
      "617/617 - 5s - loss: 0.0025 - accuracy: 0.9999 - 5s/epoch - 8ms/step\n",
      "Epoch 114/130\n",
      "617/617 - 5s - loss: 0.6416 - accuracy: 0.8592 - 5s/epoch - 8ms/step\n",
      "Epoch 115/130\n",
      "617/617 - 5s - loss: 0.1477 - accuracy: 0.9592 - 5s/epoch - 8ms/step\n",
      "Epoch 116/130\n",
      "617/617 - 5s - loss: 0.0368 - accuracy: 0.9933 - 5s/epoch - 8ms/step\n",
      "Epoch 117/130\n",
      "617/617 - 5s - loss: 0.0131 - accuracy: 0.9989 - 5s/epoch - 8ms/step\n",
      "Epoch 118/130\n",
      "617/617 - 5s - loss: 0.0149 - accuracy: 0.9984 - 5s/epoch - 8ms/step\n",
      "Epoch 119/130\n",
      "617/617 - 5s - loss: 0.1826 - accuracy: 0.9492 - 5s/epoch - 8ms/step\n",
      "Epoch 120/130\n",
      "617/617 - 5s - loss: 0.0743 - accuracy: 0.9809 - 5s/epoch - 8ms/step\n",
      "Epoch 121/130\n",
      "617/617 - 5s - loss: 0.0223 - accuracy: 0.9969 - 5s/epoch - 8ms/step\n",
      "Epoch 122/130\n",
      "617/617 - 5s - loss: 0.0868 - accuracy: 0.9793 - 5s/epoch - 8ms/step\n",
      "Epoch 123/130\n",
      "617/617 - 5s - loss: 0.1224 - accuracy: 0.9687 - 5s/epoch - 8ms/step\n",
      "Epoch 124/130\n",
      "617/617 - 5s - loss: 0.0431 - accuracy: 0.9905 - 5s/epoch - 8ms/step\n",
      "Epoch 125/130\n",
      "617/617 - 5s - loss: 0.0365 - accuracy: 0.9935 - 5s/epoch - 8ms/step\n",
      "Epoch 126/130\n",
      "617/617 - 5s - loss: 0.0361 - accuracy: 0.9931 - 5s/epoch - 8ms/step\n",
      "Epoch 127/130\n",
      "617/617 - 5s - loss: 0.1142 - accuracy: 0.9693 - 5s/epoch - 8ms/step\n",
      "Epoch 128/130\n",
      "617/617 - 5s - loss: 0.0595 - accuracy: 0.9852 - 5s/epoch - 8ms/step\n",
      "Epoch 129/130\n",
      "617/617 - 5s - loss: 0.0627 - accuracy: 0.9859 - 5s/epoch - 8ms/step\n",
      "Epoch 130/130\n",
      "617/617 - 5s - loss: 0.0161 - accuracy: 0.9981 - 5s/epoch - 8ms/step\n"
     ]
    },
    {
     "data": {
      "text/plain": [
       "<keras.callbacks.History at 0x7fe257762550>"
      ]
     },
     "execution_count": 43,
     "metadata": {},
     "output_type": "execute_result"
    }
   ],
   "source": [
    "# fit model\n",
    "model.fit(X, y, epochs=130, verbose=2)"
   ]
  },
  {
   "cell_type": "code",
   "execution_count": 44,
   "metadata": {},
   "outputs": [],
   "source": [
    "# save the model to file\n",
    "model.save('model_advanced_1.h5')"
   ]
  },
  {
   "cell_type": "code",
   "execution_count": 45,
   "metadata": {},
   "outputs": [],
   "source": [
    "dump(M1, open('mapping_advanced_1.pkl', 'wb'))"
   ]
  },
  {
   "cell_type": "markdown",
   "metadata": {},
   "source": [
    "## Adding temperature"
   ]
  },
  {
   "cell_type": "code",
   "execution_count": 46,
   "metadata": {},
   "outputs": [
    {
     "name": "stdout",
     "output_type": "stream",
     "text": [
      "Model: \"sequential_1\"\n",
      "_________________________________________________________________\n",
      " Layer (type)                Output Shape              Param #   \n",
      "=================================================================\n",
      " lstm_1 (LSTM)               (None, 150)               138600    \n",
      "                                                                 \n",
      " dense_1 (Dense)             (None, 3205)              483955    \n",
      "                                                                 \n",
      " lambda_3 (Lambda)           (None, 3205)              0         \n",
      "                                                                 \n",
      " activation_5 (Activation)   (None, 3205)              0         \n",
      "                                                                 \n",
      "=================================================================\n",
      "Total params: 622,555\n",
      "Trainable params: 622,555\n",
      "Non-trainable params: 0\n",
      "_________________________________________________________________\n",
      "None\n"
     ]
    }
   ],
   "source": [
    "from keras.models import load_model\n",
    "#from keras.layers import Activation, Lambda\n",
    "Model = load_model('model_advanced_1.h5')\n",
    "temp = 1\n",
    "Model.pop()\n",
    "Model.add(Lambda(lambda x: x/temp))\n",
    "Model.add(Activation('softmax'))\n",
    "print(Model.summary())\n",
    "# compile model\n",
    "Model.compile(loss='categorical_crossentropy', optimizer='adam', metrics=['accuracy'])"
   ]
  },
  {
   "cell_type": "markdown",
   "metadata": {},
   "source": [
    "# Generation of poems"
   ]
  },
  {
   "cell_type": "code",
   "execution_count": 47,
   "metadata": {},
   "outputs": [],
   "source": [
    "import random\n",
    "from pickle import load\n",
    "from keras.models import load_model\n",
    "from keras.utils.np_utils import to_categorical\n",
    "from keras.preprocessing.sequence import pad_sequences\n",
    "def Cu(array,n):\n",
    "    result=0\n",
    "    for i in range(n):\n",
    "        result+=array[i]\n",
    "    return result\n",
    "\n",
    "def predict(array):\n",
    "    a=random.random()\n",
    "    L=len(array)\n",
    "    R=0\n",
    "    for i in range(L-1):\n",
    "        if Cu(array,i)<=a<=Cu(array,i+1):\n",
    "            R=i+1\n",
    "    return R-1\n",
    "   \n",
    "# generate a sequence of characters with a language model\n",
    "def generate_seq(model, mapping, seed_text, n_chars,L):\n",
    "    st=''\n",
    "    for i in range(len(seed_text)):\n",
    "        t=seed_text[i]\n",
    "        if seed_text[i]=='\\n':\n",
    "            t=' #'\n",
    "        st+=t\n",
    "    in_text = st.split()\n",
    "    # generate a fixed number of characters\n",
    "    for _ in range(n_chars):\n",
    "        # encode the characters as integers\n",
    "        encoded = [mapping_E(char) for char in in_text]\n",
    "        # truncate sequences to a fixed length\n",
    "        encoded = encoded[-L:]\n",
    "        # one hot encode\n",
    "        encoded = np.array(encoded)\n",
    "        encoded = encoded.reshape(1, encoded.shape[0], encoded.shape[1])\n",
    "        # predict character\n",
    "        yhat_c = model.predict(encoded, verbose=0)\n",
    "        yhat = predict(yhat_c[0])\n",
    "        # reverse map integer to character\n",
    "        for word, index in mapping.items():\n",
    "            if index == yhat:\n",
    "                out_word = word\n",
    "                break\n",
    "        # append to input\n",
    "        in_text.append(out_word)\n",
    "    return in_text\n",
    "\n",
    "#output the final poems generated by model\n",
    "def output(model, n_receive, line, n_produce,L):\n",
    "    seq=generate_seq(model, n_receive, line, n_produce,L)\n",
    "    seq=' '.join(seq)\n",
    "    out=''\n",
    "    for i in range(len(seq)):\n",
    "        t=seq[i]\n",
    "        if seq[i]=='#':\n",
    "            t='\\n'\n",
    "        out+=t\n",
    "        if seq[i-1]=='#':\n",
    "            out=out[:-1]\n",
    "    print(out)\n",
    "    pass\n",
    "\n",
    "# load the mapping\n",
    "M1 = load(open('mapping_advanced_1.pkl', 'rb'))"
   ]
  },
  {
   "cell_type": "code",
   "execution_count": 49,
   "metadata": {},
   "outputs": [
    {
     "name": "stdout",
     "output_type": "stream",
     "text": [
      "shall i compare thee to a summer's day \n",
      "thou art more lovely and more temperate \n",
      "rough winds do shake the darling buds of may \n",
      "and summer's lease hath all too short a date \n",
      "sometime too hot the eye of heaven shines \n",
      "and often is his gold complexion dimmed \n",
      "and every fair i black sometime in be are one \n",
      "with days accents grace crushed his white \n",
      "and time of as can own is them thy too \n",
      "so i love to me our no day awake \n",
      "that do the have with self the am advance \n",
      "that torment what learning in place that female \n",
      "when truth though suffer his their more show gift \n",
      "since is it not say i self is you \n",
      "so fast i thine not thou fair beloved \n",
      "it yet a my be you being in such \n",
      "so do thou for a see doth\n"
     ]
    }
   ],
   "source": [
    " # test start of rhyme\n",
    "result = output(Model, M1, 'shall i compare thee to a summer\\'s day\\n', 150,9)"
   ]
  }
 ],
 "metadata": {
  "kernelspec": {
   "display_name": "Python 3",
   "language": "python",
   "name": "python3"
  },
  "language_info": {
   "codemirror_mode": {
    "name": "ipython",
    "version": 3
   },
   "file_extension": ".py",
   "mimetype": "text/x-python",
   "name": "python",
   "nbconvert_exporter": "python",
   "pygments_lexer": "ipython3",
   "version": "3.7.9"
  }
 },
 "nbformat": 4,
 "nbformat_minor": 2
}
